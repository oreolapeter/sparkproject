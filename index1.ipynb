{
 "cells": [
  {
   "cell_type": "code",
   "execution_count": 3,
   "metadata": {},
   "outputs": [
    {
     "data": {
      "text/plain": [
       "4"
      ]
     },
     "execution_count": 3,
     "metadata": {},
     "output_type": "execute_result"
    }
   ],
   "source": [
    "2+2"
   ]
  },
  {
   "cell_type": "code",
   "execution_count": null,
   "metadata": {},
   "outputs": [],
   "source": [
    "from pyspark.sql import SparkSession #import pyspark"
   ]
  },
  {
   "cell_type": "code",
   "execution_count": null,
   "metadata": {},
   "outputs": [],
   "source": [
    "from pyspark.sql.functions import isnull, col,date_sub,current_date #import some important functions "
   ]
  },
  {
   "cell_type": "code",
   "execution_count": null,
   "metadata": {},
   "outputs": [],
   "source": [
    "from pyspark.sql.types import IntegerType # for the conversion to integer"
   ]
  },
  {
   "cell_type": "code",
   "execution_count": null,
   "metadata": {},
   "outputs": [],
   "source": [
    "spark = SparkSession.builder.getOrCreate() #instantiation of a Spark session"
   ]
  },
  {
   "cell_type": "code",
   "execution_count": 8,
   "metadata": {},
   "outputs": [],
   "source": [
    "spark.stop()\n",
    "spark = SparkSession.builder.getOrCreate()\n"
   ]
  },
  {
   "cell_type": "code",
   "execution_count": null,
   "metadata": {},
   "outputs": [],
   "source": [
    "\n",
    "mystaff_df = spark.read.csv('workers.csv',header=True) # read in the csv file to spark\n",
    "\n"
   ]
  },
  {
   "cell_type": "code",
   "execution_count": null,
   "metadata": {},
   "outputs": [
    {
     "name": "stdout",
     "output_type": "stream",
     "text": [
      "+--------+----------+------+---+----------+--------------------+\n",
      "|   name1|     name2|gender|age|  language|          occupation|\n",
      "+--------+----------+------+---+----------+--------------------+\n",
      "| Adolpho|  Pendrich|Female| 21| Norwegian|                null|\n",
      "|    Lief|      Ughi|Female| 22|Portuguese|  Recruiting Manager|\n",
      "|    Alvy|Malatalant|  Male| 24| Malayalam|       VP Accounting|\n",
      "|     Syd|   Daniels|Female| 28|  Moldovan|     Staff Scientist|\n",
      "| Roselin|   Girkins|Female| 35|   Amharic|   Financial Analyst|\n",
      "| Pamella|    Pablos|  Male| 33|  Georgian|  Research Assistant|\n",
      "|  Harmon|Sandercock|  Male| 23|   English|   Marketing Manager|\n",
      "|   Louis| Waterland|Female| 21|    Telugu|Computer Systems ...|\n",
      "| Yehudit|   Oxenden|  Male| 35|   Spanish|  Speech Pathologist|\n",
      "|  Karrie|   Thomsen|  Male| 18|     Tetum|        Statistician|\n",
      "|  Marven| Burchnall|Female| 18|   English| Executive Secretary|\n",
      "|   Nerta|   Kensley|  Male| 19|   Bosnian|               Nurse|\n",
      "|   Piper|   Yarnold|  Male| 21|    Nepali|                null|\n",
      "|  Valene| Foresight|Female| 20|    Kazakh|Accounting Assistant|\n",
      "|Mallorie|   Kelledy|  Male| 30|    German|     Legal Assistant|\n",
      "|    Jase| Devonside|Female| 29|     Dutch|                null|\n",
      "|    Zora|    Jarmyn|Female| 26|    Danish|  Recruiting Manager|\n",
      "|   Sadye|   Millott|Female| 33|     Māori|       Web Developer|\n",
      "|  Dorice|   Glidder|  Male| 21|   English|    Internal Auditor|\n",
      "|   Kelsy|    Sacase|  Male| 23| Icelandic|Senior Financial ...|\n",
      "+--------+----------+------+---+----------+--------------------+\n",
      "only showing top 20 rows\n",
      "\n"
     ]
    }
   ],
   "source": [
    "mystaff_df.show() # output the table"
   ]
  },
  {
   "cell_type": "code",
   "execution_count": null,
   "metadata": {},
   "outputs": [
    {
     "name": "stdout",
     "output_type": "stream",
     "text": [
      "+-------+-----+----------+------+-----------------+--------+--------------------+\n",
      "|summary|name1|     name2|gender|              age|language|          occupation|\n",
      "+-------+-----+----------+------+-----------------+--------+--------------------+\n",
      "|  count|   50|        50|    50|               50|      50|                  46|\n",
      "|   mean| null|      null|  null|            25.62|    null|                null|\n",
      "| stddev| null|      null|  null|5.275627441163675|    null|                null|\n",
      "|    min|Abbot|Abramovicz|Female|               18| Amharic|Accounting Assistant|\n",
      "|    max| Zora|   Yarnold|  Male|               35|    Zulu|       Web Developer|\n",
      "+-------+-----+----------+------+-----------------+--------+--------------------+\n",
      "\n"
     ]
    }
   ],
   "source": [
    "mystaff_df.describe().show() # data property"
   ]
  },
  {
   "cell_type": "code",
   "execution_count": null,
   "metadata": {},
   "outputs": [
    {
     "name": "stdout",
     "output_type": "stream",
     "text": [
      "+-------+----------+------+---+---------+----------+\n",
      "|  name1|     name2|gender|age| language|occupation|\n",
      "+-------+----------+------+---+---------+----------+\n",
      "|Adolpho|  Pendrich|Female| 21|Norwegian|      null|\n",
      "|  Piper|   Yarnold|  Male| 21|   Nepali|      null|\n",
      "|   Jase| Devonside|Female| 29|    Dutch|      null|\n",
      "|  Leroy|Abramovicz|  Male| 19|   Kazakh|      null|\n",
      "+-------+----------+------+---+---------+----------+\n",
      "\n"
     ]
    }
   ],
   "source": [
    "mystaff_df.filter(isnull(mystaff_df.occupation)).show() # filtering the null value"
   ]
  },
  {
   "cell_type": "code",
   "execution_count": null,
   "metadata": {},
   "outputs": [
    {
     "name": "stdout",
     "output_type": "stream",
     "text": [
      "+--------+----------+------+---+----------+--------------------+\n",
      "|   name1|     name2|gender|age|  language|          occupation|\n",
      "+--------+----------+------+---+----------+--------------------+\n",
      "|    Alvy|Malatalant|  Male| 24| Malayalam|       VP Accounting|\n",
      "| Pamella|    Pablos|  Male| 33|  Georgian|  Research Assistant|\n",
      "|  Harmon|Sandercock|  Male| 23|   English|   Marketing Manager|\n",
      "| Yehudit|   Oxenden|  Male| 35|   Spanish|  Speech Pathologist|\n",
      "|  Karrie|   Thomsen|  Male| 18|     Tetum|        Statistician|\n",
      "|   Nerta|   Kensley|  Male| 19|   Bosnian|               Nurse|\n",
      "|   Piper|   Yarnold|  Male| 21|    Nepali|                null|\n",
      "|Mallorie|   Kelledy|  Male| 30|    German|     Legal Assistant|\n",
      "|  Dorice|   Glidder|  Male| 21|   English|    Internal Auditor|\n",
      "|   Kelsy|    Sacase|  Male| 23| Icelandic|Senior Financial ...|\n",
      "|   Lindi|     Gouly|  Male| 28|   Kannada|   Software Engineer|\n",
      "|  Prisca|   Canning|  Male| 32|    Fijian|VP Product Manage...|\n",
      "|   Tadio|      Renn|  Male| 24|     Czech|    Internal Auditor|\n",
      "| Hillyer|   Drought|  Male| 23|   Finnish|  Speech Pathologist|\n",
      "|  Hollie| Buckthorp|  Male| 22| Norwegian|          Programmer|\n",
      "| Shirley|  Orhtmann|  Male| 23|    Korean|           Paralegal|\n",
      "|   Lilla|   Shippam|  Male| 29|   Burmese|        Statistician|\n",
      "|     Roi|   Tarbatt|  Male| 21|  Croatian|           Recruiter|\n",
      "|Emmalynn|   Aspinal|  Male| 32|Lithuanian|       Social Worker|\n",
      "|   Cyndy|       Amy|  Male| 31|  Croatian|GIS Technical Arc...|\n",
      "+--------+----------+------+---+----------+--------------------+\n",
      "only showing top 20 rows\n",
      "\n"
     ]
    }
   ],
   "source": [
    "mystaff_df.filter(col('gender')=='Male').show() #filtering the male gender"
   ]
  },
  {
   "cell_type": "code",
   "execution_count": null,
   "metadata": {},
   "outputs": [
    {
     "name": "stdout",
     "output_type": "stream",
     "text": [
      "+-------+----------+------+---+--------+--------------------+\n",
      "|  name1|     name2|gender|age|language|          occupation|\n",
      "+-------+----------+------+---+--------+--------------------+\n",
      "| Harmon|Sandercock|  Male| 23| English|   Marketing Manager|\n",
      "|Yehudit|   Oxenden|  Male| 35| Spanish|  Speech Pathologist|\n",
      "| Marven| Burchnall|Female| 18| English| Executive Secretary|\n",
      "| Dorice|   Glidder|  Male| 21| English|    Internal Auditor|\n",
      "| Pansie| Lindstedt|  Male| 21| English|   Financial Analyst|\n",
      "| Skylar|  Fayerman|  Male| 25| English|Automation Specia...|\n",
      "+-------+----------+------+---+--------+--------------------+\n",
      "\n"
     ]
    }
   ],
   "source": [
    "mystaff_df.filter(col('language').isin('Spanish','English')).show() #basic filtering"
   ]
  },
  {
   "cell_type": "code",
   "execution_count": null,
   "metadata": {},
   "outputs": [
    {
     "name": "stdout",
     "output_type": "stream",
     "text": [
      "+------+----------+------+---+--------+--------------------+\n",
      "| name1|     name2|gender|age|language|          occupation|\n",
      "+------+----------+------+---+--------+--------------------+\n",
      "|Harmon|Sandercock|  Male| 23| English|   Marketing Manager|\n",
      "|Marven| Burchnall|Female| 18| English| Executive Secretary|\n",
      "|Dorice|   Glidder|  Male| 21| English|    Internal Auditor|\n",
      "|Pansie| Lindstedt|  Male| 21| English|   Financial Analyst|\n",
      "|Skylar|  Fayerman|  Male| 25| English|Automation Specia...|\n",
      "+------+----------+------+---+--------+--------------------+\n",
      "\n"
     ]
    }
   ],
   "source": [
    "# basic filtering\n",
    "\n",
    "mystaff_df.filter((col('language').isin('Spanish','English')) & (col('age')<30)).show()"
   ]
  },
  {
   "cell_type": "code",
   "execution_count": 31,
   "metadata": {},
   "outputs": [
    {
     "data": {
      "text/plain": [
       "[('firstname', 'string'),\n",
       " ('lastname', 'string'),\n",
       " ('gender', 'string'),\n",
       " ('age', 'string'),\n",
       " ('language', 'string'),\n",
       " ('occupation', 'string')]"
      ]
     },
     "execution_count": 31,
     "metadata": {},
     "output_type": "execute_result"
    }
   ],
   "source": [
    "mystaff_df.dtypes #check the data types"
   ]
  },
  {
   "cell_type": "code",
   "execution_count": null,
   "metadata": {},
   "outputs": [],
   "source": [
    "# change the data type of age column from string to int\n",
    "\n",
    "mystaff_df = mystaff_df.withColumn('age',col('age').cast(IntegerType()))\n",
    "\n"
   ]
  },
  {
   "cell_type": "code",
   "execution_count": null,
   "metadata": {},
   "outputs": [
    {
     "data": {
      "text/plain": [
       "[('firstname', 'string'),\n",
       " ('lastname', 'string'),\n",
       " ('gender', 'string'),\n",
       " ('age', 'int'),\n",
       " ('language', 'string'),\n",
       " ('occupation', 'string')]"
      ]
     },
     "execution_count": 34,
     "metadata": {},
     "output_type": "execute_result"
    }
   ],
   "source": [
    "mystaff_df.dtypes # validating the code"
   ]
  },
  {
   "cell_type": "code",
   "execution_count": 35,
   "metadata": {},
   "outputs": [
    {
     "name": "stdout",
     "output_type": "stream",
     "text": [
      "+---------+----------+------+---+----------+--------------------+\n",
      "|firstname|  lastname|gender|age|  language|          occupation|\n",
      "+---------+----------+------+---+----------+--------------------+\n",
      "|  Adolpho|  Pendrich|Female| 21| Norwegian|             No info|\n",
      "|     Lief|      Ughi|Female| 22|Portuguese|  Recruiting Manager|\n",
      "|     Alvy|Malatalant|  Male| 24| Malayalam|       VP Accounting|\n",
      "|      Syd|   Daniels|Female| 28|  Moldovan|     Staff Scientist|\n",
      "|  Roselin|   Girkins|Female| 35|   Amharic|   Financial Analyst|\n",
      "|  Pamella|    Pablos|  Male| 33|  Georgian|  Research Assistant|\n",
      "|   Harmon|Sandercock|  Male| 23|   English|   Marketing Manager|\n",
      "|    Louis| Waterland|Female| 21|    Telugu|Computer Systems ...|\n",
      "|  Yehudit|   Oxenden|  Male| 35|   Spanish|  Speech Pathologist|\n",
      "|   Karrie|   Thomsen|  Male| 18|     Tetum|        Statistician|\n",
      "|   Marven| Burchnall|Female| 18|   English| Executive Secretary|\n",
      "|    Nerta|   Kensley|  Male| 19|   Bosnian|               Nurse|\n",
      "|    Piper|   Yarnold|  Male| 21|    Nepali|             No info|\n",
      "|   Valene| Foresight|Female| 20|    Kazakh|Accounting Assistant|\n",
      "| Mallorie|   Kelledy|  Male| 30|    German|     Legal Assistant|\n",
      "|     Jase| Devonside|Female| 29|     Dutch|             No info|\n",
      "|     Zora|    Jarmyn|Female| 26|    Danish|  Recruiting Manager|\n",
      "|    Sadye|   Millott|Female| 33|     Māori|       Web Developer|\n",
      "|   Dorice|   Glidder|  Male| 21|   English|    Internal Auditor|\n",
      "|    Kelsy|    Sacase|  Male| 23| Icelandic|Senior Financial ...|\n",
      "+---------+----------+------+---+----------+--------------------+\n",
      "only showing top 20 rows\n",
      "\n"
     ]
    }
   ],
   "source": [
    "mystaff_df.show()"
   ]
  },
  {
   "cell_type": "code",
   "execution_count": 36,
   "metadata": {},
   "outputs": [
    {
     "data": {
      "text/plain": [
       "[('firstname', 'string'),\n",
       " ('lastname', 'string'),\n",
       " ('gender', 'string'),\n",
       " ('age', 'int'),\n",
       " ('language', 'string'),\n",
       " ('occupation', 'string')]"
      ]
     },
     "execution_count": 36,
     "metadata": {},
     "output_type": "execute_result"
    }
   ],
   "source": [
    "mystaff_df.dtypes"
   ]
  },
  {
   "cell_type": "code",
   "execution_count": null,
   "metadata": {},
   "outputs": [
    {
     "name": "stdout",
     "output_type": "stream",
     "text": [
      "+---------+----------+------+---+----------+--------------------+\n",
      "|firstname|  lastname|gender|age|  language|          occupation|\n",
      "+---------+----------+------+---+----------+--------------------+\n",
      "|  Adolpho|  Pendrich|Female| 21| Norwegian|                null|\n",
      "|     Lief|      Ughi|Female| 22|Portuguese|  Recruiting Manager|\n",
      "|     Alvy|Malatalant|  Male| 24| Malayalam|       VP Accounting|\n",
      "|      Syd|   Daniels|Female| 28|  Moldovan|     Staff Scientist|\n",
      "|  Roselin|   Girkins|Female| 35|   Amharic|   Financial Analyst|\n",
      "|  Pamella|    Pablos|  Male| 33|  Georgian|  Research Assistant|\n",
      "|   Harmon|Sandercock|  Male| 23|   English|   Marketing Manager|\n",
      "|    Louis| Waterland|Female| 21|    Telugu|Computer Systems ...|\n",
      "|  Yehudit|   Oxenden|  Male| 35|   Spanish|  Speech Pathologist|\n",
      "|   Karrie|   Thomsen|  Male| 18|     Tetum|        Statistician|\n",
      "|   Marven| Burchnall|Female| 18|   English| Executive Secretary|\n",
      "|    Nerta|   Kensley|  Male| 19|   Bosnian|               Nurse|\n",
      "|    Piper|   Yarnold|  Male| 21|    Nepali|                null|\n",
      "|   Valene| Foresight|Female| 20|    Kazakh|Accounting Assistant|\n",
      "| Mallorie|   Kelledy|  Male| 30|    German|     Legal Assistant|\n",
      "|     Jase| Devonside|Female| 29|     Dutch|                null|\n",
      "|     Zora|    Jarmyn|Female| 26|    Danish|  Recruiting Manager|\n",
      "|    Sadye|   Millott|Female| 33|     Māori|       Web Developer|\n",
      "|   Dorice|   Glidder|  Male| 21|   English|    Internal Auditor|\n",
      "|    Kelsy|    Sacase|  Male| 23| Icelandic|Senior Financial ...|\n",
      "+---------+----------+------+---+----------+--------------------+\n",
      "only showing top 20 rows\n",
      "\n"
     ]
    }
   ],
   "source": [
    "# renaming the columns\n",
    "\n",
    "mystaff_df = mystaff_df.withColumnsRenamed({'name1':'firstname','name2':'lastname'})\n",
    "\n",
    "mystaff_df.show()"
   ]
  },
  {
   "cell_type": "code",
   "execution_count": null,
   "metadata": {},
   "outputs": [
    {
     "name": "stdout",
     "output_type": "stream",
     "text": [
      "+---------+----------+------+---+----------+--------------------+\n",
      "|firstname|  lastname|gender|age|  language|          occupation|\n",
      "+---------+----------+------+---+----------+--------------------+\n",
      "|  Adolpho|  Pendrich|Female| 21| Norwegian|             No info|\n",
      "|     Lief|      Ughi|Female| 22|Portuguese|  Recruiting Manager|\n",
      "|     Alvy|Malatalant|  Male| 24| Malayalam|       VP Accounting|\n",
      "|      Syd|   Daniels|Female| 28|  Moldovan|     Staff Scientist|\n",
      "|  Roselin|   Girkins|Female| 35|   Amharic|   Financial Analyst|\n",
      "|  Pamella|    Pablos|  Male| 33|  Georgian|  Research Assistant|\n",
      "|   Harmon|Sandercock|  Male| 23|   English|   Marketing Manager|\n",
      "|    Louis| Waterland|Female| 21|    Telugu|Computer Systems ...|\n",
      "|  Yehudit|   Oxenden|  Male| 35|   Spanish|  Speech Pathologist|\n",
      "|   Karrie|   Thomsen|  Male| 18|     Tetum|        Statistician|\n",
      "|   Marven| Burchnall|Female| 18|   English| Executive Secretary|\n",
      "|    Nerta|   Kensley|  Male| 19|   Bosnian|               Nurse|\n",
      "|    Piper|   Yarnold|  Male| 21|    Nepali|             No info|\n",
      "|   Valene| Foresight|Female| 20|    Kazakh|Accounting Assistant|\n",
      "| Mallorie|   Kelledy|  Male| 30|    German|     Legal Assistant|\n",
      "|     Jase| Devonside|Female| 29|     Dutch|             No info|\n",
      "|     Zora|    Jarmyn|Female| 26|    Danish|  Recruiting Manager|\n",
      "|    Sadye|   Millott|Female| 33|     Māori|       Web Developer|\n",
      "|   Dorice|   Glidder|  Male| 21|   English|    Internal Auditor|\n",
      "|    Kelsy|    Sacase|  Male| 23| Icelandic|Senior Financial ...|\n",
      "+---------+----------+------+---+----------+--------------------+\n",
      "only showing top 20 rows\n",
      "\n"
     ]
    }
   ],
   "source": [
    "# replace the null value with string value\n",
    "\n",
    "mystaff_df = mystaff_df.na.fill('No info')\n",
    "\n",
    "mystaff_df.show()"
   ]
  },
  {
   "cell_type": "code",
   "execution_count": 22,
   "metadata": {},
   "outputs": [],
   "source": [
    "# writing SQL query in Spark\n",
    "\n",
    "# create a temporary view\n",
    "\n",
    "mystaff_df.createOrReplaceTempView('Staff_table')"
   ]
  },
  {
   "cell_type": "code",
   "execution_count": null,
   "metadata": {},
   "outputs": [
    {
     "name": "stdout",
     "output_type": "stream",
     "text": [
      "+---------+----------+------+---+----------+--------------------+\n",
      "|firstname|  lastname|gender|age|  language|          occupation|\n",
      "+---------+----------+------+---+----------+--------------------+\n",
      "|  Adolpho|  Pendrich|Female| 21| Norwegian|             No info|\n",
      "|     Lief|      Ughi|Female| 22|Portuguese|  Recruiting Manager|\n",
      "|     Alvy|Malatalant|  Male| 24| Malayalam|       VP Accounting|\n",
      "|      Syd|   Daniels|Female| 28|  Moldovan|     Staff Scientist|\n",
      "|  Roselin|   Girkins|Female| 35|   Amharic|   Financial Analyst|\n",
      "|  Pamella|    Pablos|  Male| 33|  Georgian|  Research Assistant|\n",
      "|   Harmon|Sandercock|  Male| 23|   English|   Marketing Manager|\n",
      "|    Louis| Waterland|Female| 21|    Telugu|Computer Systems ...|\n",
      "|  Yehudit|   Oxenden|  Male| 35|   Spanish|  Speech Pathologist|\n",
      "|   Karrie|   Thomsen|  Male| 18|     Tetum|        Statistician|\n",
      "|   Marven| Burchnall|Female| 18|   English| Executive Secretary|\n",
      "|    Nerta|   Kensley|  Male| 19|   Bosnian|               Nurse|\n",
      "|    Piper|   Yarnold|  Male| 21|    Nepali|             No info|\n",
      "|   Valene| Foresight|Female| 20|    Kazakh|Accounting Assistant|\n",
      "| Mallorie|   Kelledy|  Male| 30|    German|     Legal Assistant|\n",
      "|     Jase| Devonside|Female| 29|     Dutch|             No info|\n",
      "|     Zora|    Jarmyn|Female| 26|    Danish|  Recruiting Manager|\n",
      "|    Sadye|   Millott|Female| 33|     Māori|       Web Developer|\n",
      "|   Dorice|   Glidder|  Male| 21|   English|    Internal Auditor|\n",
      "|    Kelsy|    Sacase|  Male| 23| Icelandic|Senior Financial ...|\n",
      "+---------+----------+------+---+----------+--------------------+\n",
      "only showing top 20 rows\n",
      "\n"
     ]
    }
   ],
   "source": [
    "spark.sql('SELECT * FROM Staff_table').show() # simple query"
   ]
  },
  {
   "cell_type": "code",
   "execution_count": null,
   "metadata": {},
   "outputs": [
    {
     "name": "stdout",
     "output_type": "stream",
     "text": [
      "+---------+----------+------+---+----------+--------------------+\n",
      "|firstname|  lastname|gender|age|  language|          occupation|\n",
      "+---------+----------+------+---+----------+--------------------+\n",
      "|  Adolpho|  Pendrich|Female| 21| Norwegian|             No info|\n",
      "|     Lief|      Ughi|Female| 22|Portuguese|  Recruiting Manager|\n",
      "|     Alvy|Malatalant|  Male| 24| Malayalam|       VP Accounting|\n",
      "|   Harmon|Sandercock|  Male| 23|   English|   Marketing Manager|\n",
      "|    Louis| Waterland|Female| 21|    Telugu|Computer Systems ...|\n",
      "|   Karrie|   Thomsen|  Male| 18|     Tetum|        Statistician|\n",
      "|   Marven| Burchnall|Female| 18|   English| Executive Secretary|\n",
      "|    Nerta|   Kensley|  Male| 19|   Bosnian|               Nurse|\n",
      "|    Piper|   Yarnold|  Male| 21|    Nepali|             No info|\n",
      "|   Valene| Foresight|Female| 20|    Kazakh|Accounting Assistant|\n",
      "|   Dorice|   Glidder|  Male| 21|   English|    Internal Auditor|\n",
      "|    Kelsy|    Sacase|  Male| 23| Icelandic|Senior Financial ...|\n",
      "|    Tadio|      Renn|  Male| 24|     Czech|    Internal Auditor|\n",
      "|  Hillyer|   Drought|  Male| 23|   Finnish|  Speech Pathologist|\n",
      "| Germayne| Shillaker|Female| 19|    Kazakh|VP Product Manage...|\n",
      "|   Hollie| Buckthorp|  Male| 22| Norwegian|          Programmer|\n",
      "|  Shirley|  Orhtmann|  Male| 23|    Korean|           Paralegal|\n",
      "|      Roi|   Tarbatt|  Male| 21|  Croatian|           Recruiter|\n",
      "|   Trudey|  Prothero|Female| 19|    Aymara|        Food Chemist|\n",
      "|   Karlie|   McCalum|  Male| 24|   Kurdish|Help Desk Technician|\n",
      "+---------+----------+------+---+----------+--------------------+\n",
      "only showing top 20 rows\n",
      "\n"
     ]
    }
   ],
   "source": [
    "spark.sql('SELECT * FROM Staff_table WHERE age<25').show() # query"
   ]
  },
  {
   "cell_type": "code",
   "execution_count": 25,
   "metadata": {},
   "outputs": [
    {
     "name": "stdout",
     "output_type": "stream",
     "text": [
      "+----------+---------------+\n",
      "|  language|count(Lastname)|\n",
      "+----------+---------------+\n",
      "|   English|              5|\n",
      "|  Croatian|              3|\n",
      "|    Kazakh|              3|\n",
      "|Portuguese|              2|\n",
      "| Norwegian|              2|\n",
      "|   Amharic|              2|\n",
      "|    Fijian|              1|\n",
      "|Papiamento|              1|\n",
      "|    Nepali|              1|\n",
      "|   Kannada|              1|\n",
      "|   Finnish|              1|\n",
      "|     Tetum|              1|\n",
      "| Icelandic|              1|\n",
      "|  Assamese|              1|\n",
      "|   Bosnian|              1|\n",
      "|   Guaraní|              1|\n",
      "|    Telugu|              1|\n",
      "|  Filipino|              1|\n",
      "|     Azeri|              1|\n",
      "|   Spanish|              1|\n",
      "+----------+---------------+\n",
      "only showing top 20 rows\n",
      "\n"
     ]
    }
   ],
   "source": [
    "query = '''SELECT language,COUNT(Lastname) \n",
    "            FROM Staff_table \n",
    "            GROUP BY language \n",
    "            ORDER BY COUNT(lastname) DESC\n",
    "            \n",
    "            '''\n",
    "\n",
    "spark.sql(query).show()"
   ]
  },
  {
   "cell_type": "code",
   "execution_count": null,
   "metadata": {},
   "outputs": [],
   "source": []
  },
  {
   "cell_type": "code",
   "execution_count": null,
   "metadata": {},
   "outputs": [],
   "source": [
    "# create a derived column full name\n",
    "\n",
    "query = \"\"\"\n",
    "\n",
    "        SELECT  concat(firstname ,' ' ,lastname) AS fullname\n",
    "                ,*\n",
    "                ,date_sub(current_date(),(cast(age as int)*365)) AS Date_of_Birth\n",
    "                ,year(date_sub(current_date(),(cast(age as int)*365))) AS Year_of_Birth\n",
    "\n",
    "        from staff_table\n",
    "\n",
    "        \n",
    "\n",
    "\"\"\"\n",
    "\n",
    "staff_df = spark.sql(query)"
   ]
  },
  {
   "cell_type": "code",
   "execution_count": null,
   "metadata": {},
   "outputs": [],
   "source": [
    "#Selects the columns\n",
    "\n",
    "staff_df = staff_df.select(['fullname','gender','age','language','occupation','Date_of_Birth','Year_of_Birth'])"
   ]
  },
  {
   "cell_type": "code",
   "execution_count": 28,
   "metadata": {},
   "outputs": [
    {
     "name": "stdout",
     "output_type": "stream",
     "text": [
      "+-----------------+------+---+----------+--------------------+-------------+-------------+\n",
      "|         fullname|gender|age|  language|          occupation|Date_of_Birth|Year_of_Birth|\n",
      "+-----------------+------+---+----------+--------------------+-------------+-------------+\n",
      "| Adolpho Pendrich|Female| 21| Norwegian|             No info|   2003-11-12|         2003|\n",
      "|        Lief Ughi|Female| 22|Portuguese|  Recruiting Manager|   2002-11-12|         2002|\n",
      "|  Alvy Malatalant|  Male| 24| Malayalam|       VP Accounting|   2000-11-12|         2000|\n",
      "|      Syd Daniels|Female| 28|  Moldovan|     Staff Scientist|   1996-11-13|         1996|\n",
      "|  Roselin Girkins|Female| 35|   Amharic|   Financial Analyst|   1989-11-15|         1989|\n",
      "|   Pamella Pablos|  Male| 33|  Georgian|  Research Assistant|   1991-11-15|         1991|\n",
      "|Harmon Sandercock|  Male| 23|   English|   Marketing Manager|   2001-11-12|         2001|\n",
      "|  Louis Waterland|Female| 21|    Telugu|Computer Systems ...|   2003-11-12|         2003|\n",
      "|  Yehudit Oxenden|  Male| 35|   Spanish|  Speech Pathologist|   1989-11-15|         1989|\n",
      "|   Karrie Thomsen|  Male| 18|     Tetum|        Statistician|   2006-11-11|         2006|\n",
      "| Marven Burchnall|Female| 18|   English| Executive Secretary|   2006-11-11|         2006|\n",
      "|    Nerta Kensley|  Male| 19|   Bosnian|               Nurse|   2005-11-11|         2005|\n",
      "|    Piper Yarnold|  Male| 21|    Nepali|             No info|   2003-11-12|         2003|\n",
      "| Valene Foresight|Female| 20|    Kazakh|Accounting Assistant|   2004-11-11|         2004|\n",
      "| Mallorie Kelledy|  Male| 30|    German|     Legal Assistant|   1994-11-14|         1994|\n",
      "|   Jase Devonside|Female| 29|     Dutch|             No info|   1995-11-14|         1995|\n",
      "|      Zora Jarmyn|Female| 26|    Danish|  Recruiting Manager|   1998-11-13|         1998|\n",
      "|    Sadye Millott|Female| 33|     Māori|       Web Developer|   1991-11-15|         1991|\n",
      "|   Dorice Glidder|  Male| 21|   English|    Internal Auditor|   2003-11-12|         2003|\n",
      "|     Kelsy Sacase|  Male| 23| Icelandic|Senior Financial ...|   2001-11-12|         2001|\n",
      "+-----------------+------+---+----------+--------------------+-------------+-------------+\n",
      "only showing top 20 rows\n",
      "\n"
     ]
    }
   ],
   "source": [
    "staff_df.show()"
   ]
  },
  {
   "cell_type": "code",
   "execution_count": null,
   "metadata": {},
   "outputs": [],
   "source": [
    "# Save the result to Spark\n",
    "\n",
    "staff_df.write.option('header',True).partitionBy([\"language\",\"Year_of_Birth\"]).mode(\"overwrite\").format(\"csv\").save(\"result\")"
   ]
  }
 ],
 "metadata": {
  "kernelspec": {
   "display_name": "Python 3",
   "language": "python",
   "name": "python3"
  },
  "language_info": {
   "codemirror_mode": {
    "name": "ipython",
    "version": 3
   },
   "file_extension": ".py",
   "mimetype": "text/x-python",
   "name": "python",
   "nbconvert_exporter": "python",
   "pygments_lexer": "ipython3",
   "version": "3.11.5"
  }
 },
 "nbformat": 4,
 "nbformat_minor": 2
}
